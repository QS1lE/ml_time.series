{
 "cells": [
  {
   "cell_type": "code",
   "execution_count": 1,
   "metadata": {},
   "outputs": [
    {
     "name": "stdout",
     "output_type": "stream",
     "text": [
      "WARNING:tensorflow:From c:\\Users\\kanze\\anaconda3\\Lib\\site-packages\\keras\\src\\losses.py:2976: The name tf.losses.sparse_softmax_cross_entropy is deprecated. Please use tf.compat.v1.losses.sparse_softmax_cross_entropy instead.\n",
      "\n"
     ]
    }
   ],
   "source": [
    "# импорт всего, что нам понадобится\n",
    "import numpy as np\n",
    "from tensorflow.keras.models import Sequential\n",
    "from tensorflow.keras.layers import LSTM\n",
    "from tensorflow.keras.layers import Dense, Dropout\n",
    "import pandas as pd\n",
    "from matplotlib import pyplot as plt\n",
    "from sklearn.preprocessing import MinMaxScaler\n",
    "import seaborn as sns\n"
   ]
  },
  {
   "cell_type": "code",
   "execution_count": 2,
   "metadata": {},
   "outputs": [
    {
     "data": {
      "text/plain": [
       "<bound method NDFrame.head of         Area  Perimeter  MajorAxisLength  MinorAxisLength  AspectRation  \\\n",
       "0      28395    610.291       208.178117       173.888747      1.197191   \n",
       "1      28734    638.018       200.524796       182.734419      1.097356   \n",
       "2      29380    624.110       212.826130       175.931143      1.209713   \n",
       "3      30008    645.884       210.557999       182.516516      1.153638   \n",
       "4      30140    620.134       201.847882       190.279279      1.060798   \n",
       "...      ...        ...              ...              ...           ...   \n",
       "13606  42097    759.696       288.721612       185.944705      1.552728   \n",
       "13607  42101    757.499       281.576392       190.713136      1.476439   \n",
       "13608  42139    759.321       281.539928       191.187979      1.472582   \n",
       "13609  42147    763.779       283.382636       190.275731      1.489326   \n",
       "13610  42159    772.237       295.142741       182.204716      1.619841   \n",
       "\n",
       "       Eccentricity  ConvexArea  EquivDiameter    Extent  Solidity  roundness  \\\n",
       "0          0.549812       28715     190.141097  0.763923  0.988856   0.958027   \n",
       "1          0.411785       29172     191.272751  0.783968  0.984986   0.887034   \n",
       "2          0.562727       29690     193.410904  0.778113  0.989559   0.947849   \n",
       "3          0.498616       30724     195.467062  0.782681  0.976696   0.903936   \n",
       "4          0.333680       30417     195.896503  0.773098  0.990893   0.984877   \n",
       "...             ...         ...            ...       ...       ...        ...   \n",
       "13606      0.765002       42508     231.515799  0.714574  0.990331   0.916603   \n",
       "13607      0.735702       42494     231.526798  0.799943  0.990752   0.922015   \n",
       "13608      0.734065       42569     231.631261  0.729932  0.989899   0.918424   \n",
       "13609      0.741055       42667     231.653247  0.705389  0.987813   0.907906   \n",
       "13610      0.786693       42600     231.686223  0.788962  0.989648   0.888380   \n",
       "\n",
       "       Compactness  ShapeFactor1  ShapeFactor2  ShapeFactor3  ShapeFactor4  \\\n",
       "0         0.913358      0.007332      0.003147      0.834222      0.998724   \n",
       "1         0.953861      0.006979      0.003564      0.909851      0.998430   \n",
       "2         0.908774      0.007244      0.003048      0.825871      0.999066   \n",
       "3         0.928329      0.007017      0.003215      0.861794      0.994199   \n",
       "4         0.970516      0.006697      0.003665      0.941900      0.999166   \n",
       "...            ...           ...           ...           ...           ...   \n",
       "13606     0.801865      0.006858      0.001749      0.642988      0.998385   \n",
       "13607     0.822252      0.006688      0.001886      0.676099      0.998219   \n",
       "13608     0.822730      0.006681      0.001888      0.676884      0.996767   \n",
       "13609     0.817457      0.006724      0.001852      0.668237      0.995222   \n",
       "13610     0.784997      0.007001      0.001640      0.616221      0.998180   \n",
       "\n",
       "          Class  \n",
       "0         SEKER  \n",
       "1         SEKER  \n",
       "2         SEKER  \n",
       "3         SEKER  \n",
       "4         SEKER  \n",
       "...         ...  \n",
       "13606  DERMASON  \n",
       "13607  DERMASON  \n",
       "13608  DERMASON  \n",
       "13609  DERMASON  \n",
       "13610  DERMASON  \n",
       "\n",
       "[13611 rows x 17 columns]>"
      ]
     },
     "execution_count": 2,
     "metadata": {},
     "output_type": "execute_result"
    }
   ],
   "source": [
    "# считываем данные\n",
    "df = pd.read_csv(\"data/dry_bean_dataset/Dry_Bean_Dataset.csv\", sep = \";\",decimal =\",\")\n",
    "df.head"
   ]
  },
  {
   "cell_type": "code",
   "execution_count": 4,
   "metadata": {},
   "outputs": [
    {
     "name": "stdout",
     "output_type": "stream",
     "text": [
      "------------------------------------------------------- MISSING VALUES ------------------------------------------------------\n",
      "Area               0\n",
      "Perimeter          0\n",
      "MajorAxisLength    0\n",
      "MinorAxisLength    0\n",
      "AspectRation       0\n",
      "Eccentricity       0\n",
      "ConvexArea         0\n",
      "EquivDiameter      0\n",
      "Extent             0\n",
      "Solidity           0\n",
      "roundness          0\n",
      "Compactness        0\n",
      "ShapeFactor1       0\n",
      "ShapeFactor2       0\n",
      "ShapeFactor3       0\n",
      "ShapeFactor4       0\n",
      "Class              0\n",
      "dtype: int64\n",
      "----------------------------------------------------- DUPLICATED VALUES -----------------------------------------------------\n",
      "68\n",
      "--------------------------------------------------------- DATA TYPES --------------------------------------------------------\n",
      "Area                 int64\n",
      "Perimeter          float64\n",
      "MajorAxisLength    float64\n",
      "MinorAxisLength    float64\n",
      "AspectRation       float64\n",
      "Eccentricity       float64\n",
      "ConvexArea           int64\n",
      "EquivDiameter      float64\n",
      "Extent             float64\n",
      "Solidity           float64\n",
      "roundness          float64\n",
      "Compactness        float64\n",
      "ShapeFactor1       float64\n",
      "ShapeFactor2       float64\n",
      "ShapeFactor3       float64\n",
      "ShapeFactor4       float64\n",
      "Class               object\n",
      "dtype: object\n"
     ]
    }
   ],
   "source": [
    "def data_overview(df, head=5):\n",
    "    print(\" MISSING VALUES \".center(125,'-'))\n",
    "    print(df.isnull().sum())\n",
    "    print(\" DUPLICATED VALUES \".center(125,'-'))\n",
    "    print(df.duplicated().sum())\n",
    "    print(\" DATA TYPES \".center(125,'-'))\n",
    "    print(df.dtypes)\n",
    "\n",
    "data_overview(df)\n"
   ]
  },
  {
   "cell_type": "code",
   "execution_count": 14,
   "metadata": {},
   "outputs": [
    {
     "data": {
      "text/plain": [
       "<bound method NDFrame.head of         Area  Perimeter  MajorAxisLength  MinorAxisLength  AspectRation  \\\n",
       "0      28395    610.291       208.178117       173.888747      1.197191   \n",
       "1      28734    638.018       200.524796       182.734419      1.097356   \n",
       "2      29380    624.110       212.826130       175.931143      1.209713   \n",
       "3      30008    645.884       210.557999       182.516516      1.153638   \n",
       "4      30140    620.134       201.847882       190.279279      1.060798   \n",
       "...      ...        ...              ...              ...           ...   \n",
       "13606  42097    759.696       288.721612       185.944705      1.552728   \n",
       "13607  42101    757.499       281.576392       190.713136      1.476439   \n",
       "13608  42139    759.321       281.539928       191.187979      1.472582   \n",
       "13609  42147    763.779       283.382636       190.275731      1.489326   \n",
       "13610  42159    772.237       295.142741       182.204716      1.619841   \n",
       "\n",
       "       Eccentricity  ConvexArea  EquivDiameter    Extent  Solidity  roundness  \\\n",
       "0          0.549812       28715     190.141097  0.763923  0.988856   0.958027   \n",
       "1          0.411785       29172     191.272751  0.783968  0.984986   0.887034   \n",
       "2          0.562727       29690     193.410904  0.778113  0.989559   0.947849   \n",
       "3          0.498616       30724     195.467062  0.782681  0.976696   0.903936   \n",
       "4          0.333680       30417     195.896503  0.773098  0.990893   0.984877   \n",
       "...             ...         ...            ...       ...       ...        ...   \n",
       "13606      0.765002       42508     231.515799  0.714574  0.990331   0.916603   \n",
       "13607      0.735702       42494     231.526798  0.799943  0.990752   0.922015   \n",
       "13608      0.734065       42569     231.631261  0.729932  0.989899   0.918424   \n",
       "13609      0.741055       42667     231.653247  0.705389  0.987813   0.907906   \n",
       "13610      0.786693       42600     231.686223  0.788962  0.989648   0.888380   \n",
       "\n",
       "       Compactness  ShapeFactor1  ShapeFactor2  ShapeFactor3  ShapeFactor4  \\\n",
       "0         0.913358      0.007332      0.003147      0.834222      0.998724   \n",
       "1         0.953861      0.006979      0.003564      0.909851      0.998430   \n",
       "2         0.908774      0.007244      0.003048      0.825871      0.999066   \n",
       "3         0.928329      0.007017      0.003215      0.861794      0.994199   \n",
       "4         0.970516      0.006697      0.003665      0.941900      0.999166   \n",
       "...            ...           ...           ...           ...           ...   \n",
       "13606     0.801865      0.006858      0.001749      0.642988      0.998385   \n",
       "13607     0.822252      0.006688      0.001886      0.676099      0.998219   \n",
       "13608     0.822730      0.006681      0.001888      0.676884      0.996767   \n",
       "13609     0.817457      0.006724      0.001852      0.668237      0.995222   \n",
       "13610     0.784997      0.007001      0.001640      0.616221      0.998180   \n",
       "\n",
       "       Class  \n",
       "0          0  \n",
       "1          0  \n",
       "2          0  \n",
       "3          0  \n",
       "4          0  \n",
       "...      ...  \n",
       "13606      6  \n",
       "13607      6  \n",
       "13608      6  \n",
       "13609      6  \n",
       "13610      6  \n",
       "\n",
       "[13611 rows x 17 columns]>"
      ]
     },
     "execution_count": 14,
     "metadata": {},
     "output_type": "execute_result"
    }
   ],
   "source": [
    "m_dict = {\n",
    "    \"Class\":{\"SEKER\":0, \"BARBUNYA\":1, \"BOMBAY\":2, \"CALI\":3, \"HOROZ\":4, \"SIRA\":5, \"DERMASON\":6} \n",
    "}\n",
    "\n",
    "df = df.replace(m_dict)\n",
    "df.head"
   ]
  },
  {
   "cell_type": "code",
   "execution_count": 15,
   "metadata": {},
   "outputs": [
    {
     "data": {
      "text/html": [
       "<div>\n",
       "<style scoped>\n",
       "    .dataframe tbody tr th:only-of-type {\n",
       "        vertical-align: middle;\n",
       "    }\n",
       "\n",
       "    .dataframe tbody tr th {\n",
       "        vertical-align: top;\n",
       "    }\n",
       "\n",
       "    .dataframe thead th {\n",
       "        text-align: right;\n",
       "    }\n",
       "</style>\n",
       "<table border=\"1\" class=\"dataframe\">\n",
       "  <thead>\n",
       "    <tr style=\"text-align: right;\">\n",
       "      <th></th>\n",
       "      <th>Area</th>\n",
       "      <th>Perimeter</th>\n",
       "      <th>MajorAxisLength</th>\n",
       "      <th>MinorAxisLength</th>\n",
       "      <th>AspectRation</th>\n",
       "      <th>Eccentricity</th>\n",
       "      <th>ConvexArea</th>\n",
       "      <th>EquivDiameter</th>\n",
       "      <th>Extent</th>\n",
       "      <th>Solidity</th>\n",
       "      <th>roundness</th>\n",
       "      <th>Compactness</th>\n",
       "      <th>ShapeFactor1</th>\n",
       "      <th>ShapeFactor2</th>\n",
       "      <th>ShapeFactor3</th>\n",
       "      <th>ShapeFactor4</th>\n",
       "      <th>Class</th>\n",
       "    </tr>\n",
       "  </thead>\n",
       "  <tbody>\n",
       "    <tr>\n",
       "      <th>0</th>\n",
       "      <td>28395</td>\n",
       "      <td>610.291</td>\n",
       "      <td>208.178117</td>\n",
       "      <td>173.888747</td>\n",
       "      <td>1.197191</td>\n",
       "      <td>0.549812</td>\n",
       "      <td>28715</td>\n",
       "      <td>190.141097</td>\n",
       "      <td>0.763923</td>\n",
       "      <td>0.988856</td>\n",
       "      <td>0.958027</td>\n",
       "      <td>0.913358</td>\n",
       "      <td>0.007332</td>\n",
       "      <td>0.003147</td>\n",
       "      <td>0.834222</td>\n",
       "      <td>0.998724</td>\n",
       "      <td>0</td>\n",
       "    </tr>\n",
       "    <tr>\n",
       "      <th>1</th>\n",
       "      <td>28734</td>\n",
       "      <td>638.018</td>\n",
       "      <td>200.524796</td>\n",
       "      <td>182.734419</td>\n",
       "      <td>1.097356</td>\n",
       "      <td>0.411785</td>\n",
       "      <td>29172</td>\n",
       "      <td>191.272751</td>\n",
       "      <td>0.783968</td>\n",
       "      <td>0.984986</td>\n",
       "      <td>0.887034</td>\n",
       "      <td>0.953861</td>\n",
       "      <td>0.006979</td>\n",
       "      <td>0.003564</td>\n",
       "      <td>0.909851</td>\n",
       "      <td>0.998430</td>\n",
       "      <td>0</td>\n",
       "    </tr>\n",
       "    <tr>\n",
       "      <th>2</th>\n",
       "      <td>29380</td>\n",
       "      <td>624.110</td>\n",
       "      <td>212.826130</td>\n",
       "      <td>175.931143</td>\n",
       "      <td>1.209713</td>\n",
       "      <td>0.562727</td>\n",
       "      <td>29690</td>\n",
       "      <td>193.410904</td>\n",
       "      <td>0.778113</td>\n",
       "      <td>0.989559</td>\n",
       "      <td>0.947849</td>\n",
       "      <td>0.908774</td>\n",
       "      <td>0.007244</td>\n",
       "      <td>0.003048</td>\n",
       "      <td>0.825871</td>\n",
       "      <td>0.999066</td>\n",
       "      <td>0</td>\n",
       "    </tr>\n",
       "    <tr>\n",
       "      <th>3</th>\n",
       "      <td>30008</td>\n",
       "      <td>645.884</td>\n",
       "      <td>210.557999</td>\n",
       "      <td>182.516516</td>\n",
       "      <td>1.153638</td>\n",
       "      <td>0.498616</td>\n",
       "      <td>30724</td>\n",
       "      <td>195.467062</td>\n",
       "      <td>0.782681</td>\n",
       "      <td>0.976696</td>\n",
       "      <td>0.903936</td>\n",
       "      <td>0.928329</td>\n",
       "      <td>0.007017</td>\n",
       "      <td>0.003215</td>\n",
       "      <td>0.861794</td>\n",
       "      <td>0.994199</td>\n",
       "      <td>0</td>\n",
       "    </tr>\n",
       "    <tr>\n",
       "      <th>4</th>\n",
       "      <td>30140</td>\n",
       "      <td>620.134</td>\n",
       "      <td>201.847882</td>\n",
       "      <td>190.279279</td>\n",
       "      <td>1.060798</td>\n",
       "      <td>0.333680</td>\n",
       "      <td>30417</td>\n",
       "      <td>195.896503</td>\n",
       "      <td>0.773098</td>\n",
       "      <td>0.990893</td>\n",
       "      <td>0.984877</td>\n",
       "      <td>0.970516</td>\n",
       "      <td>0.006697</td>\n",
       "      <td>0.003665</td>\n",
       "      <td>0.941900</td>\n",
       "      <td>0.999166</td>\n",
       "      <td>0</td>\n",
       "    </tr>\n",
       "  </tbody>\n",
       "</table>\n",
       "</div>"
      ],
      "text/plain": [
       "    Area  Perimeter  MajorAxisLength  MinorAxisLength  AspectRation  \\\n",
       "0  28395    610.291       208.178117       173.888747      1.197191   \n",
       "1  28734    638.018       200.524796       182.734419      1.097356   \n",
       "2  29380    624.110       212.826130       175.931143      1.209713   \n",
       "3  30008    645.884       210.557999       182.516516      1.153638   \n",
       "4  30140    620.134       201.847882       190.279279      1.060798   \n",
       "\n",
       "   Eccentricity  ConvexArea  EquivDiameter    Extent  Solidity  roundness  \\\n",
       "0      0.549812       28715     190.141097  0.763923  0.988856   0.958027   \n",
       "1      0.411785       29172     191.272751  0.783968  0.984986   0.887034   \n",
       "2      0.562727       29690     193.410904  0.778113  0.989559   0.947849   \n",
       "3      0.498616       30724     195.467062  0.782681  0.976696   0.903936   \n",
       "4      0.333680       30417     195.896503  0.773098  0.990893   0.984877   \n",
       "\n",
       "   Compactness  ShapeFactor1  ShapeFactor2  ShapeFactor3  ShapeFactor4  Class  \n",
       "0     0.913358      0.007332      0.003147      0.834222      0.998724      0  \n",
       "1     0.953861      0.006979      0.003564      0.909851      0.998430      0  \n",
       "2     0.908774      0.007244      0.003048      0.825871      0.999066      0  \n",
       "3     0.928329      0.007017      0.003215      0.861794      0.994199      0  \n",
       "4     0.970516      0.006697      0.003665      0.941900      0.999166      0  "
      ]
     },
     "execution_count": 15,
     "metadata": {},
     "output_type": "execute_result"
    }
   ],
   "source": [
    "df.head()"
   ]
  },
  {
   "cell_type": "code",
   "execution_count": 16,
   "metadata": {},
   "outputs": [
    {
     "data": {
      "text/html": [
       "<div>\n",
       "<style scoped>\n",
       "    .dataframe tbody tr th:only-of-type {\n",
       "        vertical-align: middle;\n",
       "    }\n",
       "\n",
       "    .dataframe tbody tr th {\n",
       "        vertical-align: top;\n",
       "    }\n",
       "\n",
       "    .dataframe thead th {\n",
       "        text-align: right;\n",
       "    }\n",
       "</style>\n",
       "<table border=\"1\" class=\"dataframe\">\n",
       "  <thead>\n",
       "    <tr style=\"text-align: right;\">\n",
       "      <th></th>\n",
       "      <th>Area</th>\n",
       "      <th>Perimeter</th>\n",
       "      <th>MajorAxisLength</th>\n",
       "      <th>MinorAxisLength</th>\n",
       "      <th>AspectRation</th>\n",
       "      <th>Eccentricity</th>\n",
       "      <th>ConvexArea</th>\n",
       "      <th>EquivDiameter</th>\n",
       "      <th>Extent</th>\n",
       "      <th>Solidity</th>\n",
       "      <th>roundness</th>\n",
       "      <th>Compactness</th>\n",
       "      <th>ShapeFactor1</th>\n",
       "      <th>ShapeFactor2</th>\n",
       "      <th>ShapeFactor3</th>\n",
       "      <th>ShapeFactor4</th>\n",
       "      <th>Class</th>\n",
       "    </tr>\n",
       "  </thead>\n",
       "  <tbody>\n",
       "    <tr>\n",
       "      <th>13606</th>\n",
       "      <td>42097</td>\n",
       "      <td>759.696</td>\n",
       "      <td>288.721612</td>\n",
       "      <td>185.944705</td>\n",
       "      <td>1.552728</td>\n",
       "      <td>0.765002</td>\n",
       "      <td>42508</td>\n",
       "      <td>231.515799</td>\n",
       "      <td>0.714574</td>\n",
       "      <td>0.990331</td>\n",
       "      <td>0.916603</td>\n",
       "      <td>0.801865</td>\n",
       "      <td>0.006858</td>\n",
       "      <td>0.001749</td>\n",
       "      <td>0.642988</td>\n",
       "      <td>0.998385</td>\n",
       "      <td>6</td>\n",
       "    </tr>\n",
       "    <tr>\n",
       "      <th>13607</th>\n",
       "      <td>42101</td>\n",
       "      <td>757.499</td>\n",
       "      <td>281.576392</td>\n",
       "      <td>190.713136</td>\n",
       "      <td>1.476439</td>\n",
       "      <td>0.735702</td>\n",
       "      <td>42494</td>\n",
       "      <td>231.526798</td>\n",
       "      <td>0.799943</td>\n",
       "      <td>0.990752</td>\n",
       "      <td>0.922015</td>\n",
       "      <td>0.822252</td>\n",
       "      <td>0.006688</td>\n",
       "      <td>0.001886</td>\n",
       "      <td>0.676099</td>\n",
       "      <td>0.998219</td>\n",
       "      <td>6</td>\n",
       "    </tr>\n",
       "    <tr>\n",
       "      <th>13608</th>\n",
       "      <td>42139</td>\n",
       "      <td>759.321</td>\n",
       "      <td>281.539928</td>\n",
       "      <td>191.187979</td>\n",
       "      <td>1.472582</td>\n",
       "      <td>0.734065</td>\n",
       "      <td>42569</td>\n",
       "      <td>231.631261</td>\n",
       "      <td>0.729932</td>\n",
       "      <td>0.989899</td>\n",
       "      <td>0.918424</td>\n",
       "      <td>0.822730</td>\n",
       "      <td>0.006681</td>\n",
       "      <td>0.001888</td>\n",
       "      <td>0.676884</td>\n",
       "      <td>0.996767</td>\n",
       "      <td>6</td>\n",
       "    </tr>\n",
       "    <tr>\n",
       "      <th>13609</th>\n",
       "      <td>42147</td>\n",
       "      <td>763.779</td>\n",
       "      <td>283.382636</td>\n",
       "      <td>190.275731</td>\n",
       "      <td>1.489326</td>\n",
       "      <td>0.741055</td>\n",
       "      <td>42667</td>\n",
       "      <td>231.653247</td>\n",
       "      <td>0.705389</td>\n",
       "      <td>0.987813</td>\n",
       "      <td>0.907906</td>\n",
       "      <td>0.817457</td>\n",
       "      <td>0.006724</td>\n",
       "      <td>0.001852</td>\n",
       "      <td>0.668237</td>\n",
       "      <td>0.995222</td>\n",
       "      <td>6</td>\n",
       "    </tr>\n",
       "    <tr>\n",
       "      <th>13610</th>\n",
       "      <td>42159</td>\n",
       "      <td>772.237</td>\n",
       "      <td>295.142741</td>\n",
       "      <td>182.204716</td>\n",
       "      <td>1.619841</td>\n",
       "      <td>0.786693</td>\n",
       "      <td>42600</td>\n",
       "      <td>231.686223</td>\n",
       "      <td>0.788962</td>\n",
       "      <td>0.989648</td>\n",
       "      <td>0.888380</td>\n",
       "      <td>0.784997</td>\n",
       "      <td>0.007001</td>\n",
       "      <td>0.001640</td>\n",
       "      <td>0.616221</td>\n",
       "      <td>0.998180</td>\n",
       "      <td>6</td>\n",
       "    </tr>\n",
       "  </tbody>\n",
       "</table>\n",
       "</div>"
      ],
      "text/plain": [
       "        Area  Perimeter  MajorAxisLength  MinorAxisLength  AspectRation  \\\n",
       "13606  42097    759.696       288.721612       185.944705      1.552728   \n",
       "13607  42101    757.499       281.576392       190.713136      1.476439   \n",
       "13608  42139    759.321       281.539928       191.187979      1.472582   \n",
       "13609  42147    763.779       283.382636       190.275731      1.489326   \n",
       "13610  42159    772.237       295.142741       182.204716      1.619841   \n",
       "\n",
       "       Eccentricity  ConvexArea  EquivDiameter    Extent  Solidity  roundness  \\\n",
       "13606      0.765002       42508     231.515799  0.714574  0.990331   0.916603   \n",
       "13607      0.735702       42494     231.526798  0.799943  0.990752   0.922015   \n",
       "13608      0.734065       42569     231.631261  0.729932  0.989899   0.918424   \n",
       "13609      0.741055       42667     231.653247  0.705389  0.987813   0.907906   \n",
       "13610      0.786693       42600     231.686223  0.788962  0.989648   0.888380   \n",
       "\n",
       "       Compactness  ShapeFactor1  ShapeFactor2  ShapeFactor3  ShapeFactor4  \\\n",
       "13606     0.801865      0.006858      0.001749      0.642988      0.998385   \n",
       "13607     0.822252      0.006688      0.001886      0.676099      0.998219   \n",
       "13608     0.822730      0.006681      0.001888      0.676884      0.996767   \n",
       "13609     0.817457      0.006724      0.001852      0.668237      0.995222   \n",
       "13610     0.784997      0.007001      0.001640      0.616221      0.998180   \n",
       "\n",
       "       Class  \n",
       "13606      6  \n",
       "13607      6  \n",
       "13608      6  \n",
       "13609      6  \n",
       "13610      6  "
      ]
     },
     "execution_count": 16,
     "metadata": {},
     "output_type": "execute_result"
    }
   ],
   "source": [
    "df.tail()"
   ]
  },
  {
   "cell_type": "code",
   "execution_count": 17,
   "metadata": {},
   "outputs": [
    {
     "data": {
      "text/plain": [
       "(13611, 17)"
      ]
     },
     "execution_count": 17,
     "metadata": {},
     "output_type": "execute_result"
    }
   ],
   "source": [
    "df.shape"
   ]
  },
  {
   "cell_type": "code",
   "execution_count": 18,
   "metadata": {},
   "outputs": [
    {
     "data": {
      "text/plain": [
       "3403"
      ]
     },
     "execution_count": 18,
     "metadata": {},
     "output_type": "execute_result"
    }
   ],
   "source": [
    "# кол-во элементов для тестовой выборки\n",
    "test_split_number=round(len(df)*0.25)\n",
    "test_split_number"
   ]
  },
  {
   "cell_type": "code",
   "execution_count": 19,
   "metadata": {},
   "outputs": [
    {
     "name": "stdout",
     "output_type": "stream",
     "text": [
      "(10208, 17)\n",
      "(3403, 17)\n"
     ]
    }
   ],
   "source": [
    "# разбиваем на тест и трейн\n",
    "df_for_training=df[:-test_split_number]\n",
    "df_for_testing=df[-test_split_number:]\n",
    "\n",
    "\n",
    "print(df_for_training.shape)\n",
    "print(df_for_testing.shape)"
   ]
  },
  {
   "cell_type": "code",
   "execution_count": 20,
   "metadata": {},
   "outputs": [],
   "source": [
    "# когда данные смотрели, было видно, что они не нормированные. Нормируем.\n",
    "scaler = MinMaxScaler(feature_range=(0,1))\n",
    "df_for_training_scaled = scaler.fit_transform(df_for_training)"
   ]
  },
  {
   "cell_type": "code",
   "execution_count": 21,
   "metadata": {},
   "outputs": [
    {
     "data": {
      "text/plain": [
       "array([[0.03405267, 0.05857388, 0.04426214, ..., 0.75099637, 0.98061988,\n",
       "        0.        ],\n",
       "       [0.03550018, 0.07755673, 0.03047881, ..., 0.88498696, 0.97497943,\n",
       "        0.        ],\n",
       "       [0.03825855, 0.06803484, 0.05263303, ..., 0.7361995 , 0.98719586,\n",
       "        0.        ],\n",
       "       ...,\n",
       "       [0.01683633, 0.03289599, 0.05176047, ..., 0.49188357, 0.96321342,\n",
       "        1.        ],\n",
       "       [0.01686621, 0.03116455, 0.04749427, ..., 0.51989895, 0.96551814,\n",
       "        1.        ],\n",
       "       [0.01688329, 0.03854833, 0.0563011 , ..., 0.46398387, 0.94031526,\n",
       "        1.        ]])"
      ]
     },
     "execution_count": 21,
     "metadata": {},
     "output_type": "execute_result"
    }
   ],
   "source": [
    "df_for_training_scaled"
   ]
  },
  {
   "cell_type": "code",
   "execution_count": 22,
   "metadata": {},
   "outputs": [
    {
     "data": {
      "text/plain": [
       "(10208, 17)"
      ]
     },
     "execution_count": 22,
     "metadata": {},
     "output_type": "execute_result"
    }
   ],
   "source": [
    "df_for_training_scaled.shape"
   ]
  },
  {
   "cell_type": "code",
   "execution_count": 23,
   "metadata": {},
   "outputs": [
    {
     "data": {
      "text/plain": [
       "(3403, 17)"
      ]
     },
     "execution_count": 23,
     "metadata": {},
     "output_type": "execute_result"
    }
   ],
   "source": [
    "df_for_testing_scaled=scaler.transform(df_for_testing)\n",
    "df_for_testing_scaled.shape"
   ]
  },
  {
   "cell_type": "code",
   "execution_count": 24,
   "metadata": {},
   "outputs": [],
   "source": [
    "def createXY(dataset,n_past):\n",
    "    dataX = []\n",
    "    dataY = []\n",
    "    for i in range(n_past, len(dataset)):\n",
    "            dataX.append(dataset[i - n_past:i, 0:dataset.shape[1]])\n",
    "            dataY.append(dataset[i,0])\n",
    "    return np.array(dataX),np.array(dataY) "
   ]
  },
  {
   "cell_type": "code",
   "execution_count": 25,
   "metadata": {},
   "outputs": [],
   "source": [
    "n_past = 50 # сколько точек будет предсказывать\n",
    "\n",
    "trainX,trainY=createXY(df_for_training_scaled,n_past)\n",
    "\n",
    "testX,testY=createXY(df_for_testing_scaled,n_past)"
   ]
  },
  {
   "cell_type": "code",
   "execution_count": 26,
   "metadata": {},
   "outputs": [
    {
     "data": {
      "text/plain": [
       "(10158, 50, 17)"
      ]
     },
     "execution_count": 26,
     "metadata": {},
     "output_type": "execute_result"
    }
   ],
   "source": [
    "trainX.shape"
   ]
  },
  {
   "cell_type": "code",
   "execution_count": 27,
   "metadata": {},
   "outputs": [
    {
     "data": {
      "text/plain": [
       "(3353, 50, 17)"
      ]
     },
     "execution_count": 27,
     "metadata": {},
     "output_type": "execute_result"
    }
   ],
   "source": [
    "testX.shape"
   ]
  },
  {
   "cell_type": "code",
   "execution_count": 28,
   "metadata": {},
   "outputs": [],
   "source": [
    "from scikeras.wrappers import KerasRegressor\n",
    "from sklearn.model_selection import GridSearchCV"
   ]
  },
  {
   "cell_type": "code",
   "execution_count": 31,
   "metadata": {},
   "outputs": [],
   "source": [
    "# собираем lstm-ку\n",
    "def build_model(optimizer=\"adam\", npas = n_past, icol = 17):\n",
    "    grid_model = Sequential()\n",
    "    grid_model.add(LSTM(20 + n_past,return_sequences=True,input_shape=(n_past,icol)))\n",
    "    grid_model.add(LSTM(20 + n_past))\n",
    "    grid_model.add(Dropout(0.2))\n",
    "    grid_model.add(Dense(1))\n",
    "\n",
    "    grid_model.compile(loss = 'mse',optimizer = optimizer)\n",
    "    return grid_model\n",
    "\n",
    "grid_model = KerasRegressor(model=build_model,verbose=1, fit__validation_data=(testX,testY))\n",
    "parameters = {'batch_size' : [16,20],\n",
    "              'epochs' : [8,10],\n",
    "              'optimizer' : ['adam','Adadelta'] }\n",
    "\n",
    "grid_search  = GridSearchCV(estimator = grid_model,\n",
    "                            param_grid = parameters,\n",
    "                            cv = 2)"
   ]
  },
  {
   "cell_type": "code",
   "execution_count": 33,
   "metadata": {},
   "outputs": [
    {
     "name": "stdout",
     "output_type": "stream",
     "text": [
      "Epoch 1/8\n",
      "318/318 [==============================] - 18s 38ms/step - loss: 0.0018 - val_loss: 9.3104e-06\n",
      "Epoch 2/8\n",
      "318/318 [==============================] - 11s 33ms/step - loss: 6.5979e-04 - val_loss: 7.2215e-06\n",
      "Epoch 3/8\n",
      "318/318 [==============================] - 11s 33ms/step - loss: 5.9765e-04 - val_loss: 8.9059e-06\n",
      "Epoch 4/8\n",
      "318/318 [==============================] - 10s 32ms/step - loss: 4.9642e-04 - val_loss: 3.3117e-06\n",
      "Epoch 5/8\n",
      "318/318 [==============================] - 10s 32ms/step - loss: 4.3278e-04 - val_loss: 2.1123e-05\n",
      "Epoch 6/8\n",
      "318/318 [==============================] - 10s 32ms/step - loss: 4.3899e-04 - val_loss: 7.1266e-06\n",
      "Epoch 7/8\n",
      "318/318 [==============================] - 10s 32ms/step - loss: 3.3158e-04 - val_loss: 3.7262e-05\n",
      "Epoch 8/8\n",
      "318/318 [==============================] - 11s 34ms/step - loss: 3.9089e-04 - val_loss: 9.1745e-07\n"
     ]
    }
   ],
   "source": [
    "# Обучение происхлдит один раз\n",
    "model_fitted = grid_model.fit(trainX,trainY,epochs=8)"
   ]
  },
  {
   "cell_type": "code",
   "execution_count": 50,
   "metadata": {},
   "outputs": [
    {
     "name": "stdout",
     "output_type": "stream",
     "text": [
      "Epoch 1/8\n",
      "318/318 [==============================] - 17s 35ms/step - loss: 0.0012 - val_loss: 7.4526e-06\n",
      "Epoch 2/8\n",
      "318/318 [==============================] - 9s 29ms/step - loss: 2.8252e-04 - val_loss: 2.1538e-05\n",
      "Epoch 3/8\n",
      "318/318 [==============================] - 10s 30ms/step - loss: 2.4515e-04 - val_loss: 1.2934e-04\n",
      "Epoch 4/8\n",
      "318/318 [==============================] - 10s 31ms/step - loss: 1.8659e-04 - val_loss: 8.8909e-05\n",
      "Epoch 5/8\n",
      "318/318 [==============================] - 11s 36ms/step - loss: 1.7049e-04 - val_loss: 7.8699e-05\n",
      "Epoch 6/8\n",
      "318/318 [==============================] - 11s 35ms/step - loss: 1.4678e-04 - val_loss: 1.7279e-05\n",
      "Epoch 7/8\n",
      "318/318 [==============================] - 11s 33ms/step - loss: 1.3821e-04 - val_loss: 5.8199e-06\n",
      "Epoch 8/8\n",
      "318/318 [==============================] - 11s 35ms/step - loss: 1.2899e-04 - val_loss: 4.1052e-04\n",
      "318/318 [==============================] - 4s 10ms/step\n",
      "Epoch 1/8\n",
      "318/318 [==============================] - 16s 38ms/step - loss: 0.0022 - val_loss: 5.2372e-05\n",
      "Epoch 2/8\n",
      "318/318 [==============================] - 12s 37ms/step - loss: 0.0011 - val_loss: 1.2178e-05\n",
      "Epoch 3/8\n",
      "318/318 [==============================] - 13s 42ms/step - loss: 8.9566e-04 - val_loss: 0.0016\n",
      "Epoch 4/8\n",
      "318/318 [==============================] - 13s 41ms/step - loss: 8.3331e-04 - val_loss: 0.0011\n",
      "Epoch 5/8\n",
      "318/318 [==============================] - 13s 42ms/step - loss: 6.7442e-04 - val_loss: 0.0011\n",
      "Epoch 6/8\n",
      "318/318 [==============================] - 13s 42ms/step - loss: 7.2175e-04 - val_loss: 8.0265e-04\n",
      "Epoch 7/8\n",
      "318/318 [==============================] - 13s 40ms/step - loss: 6.3702e-04 - val_loss: 7.8706e-04\n",
      "Epoch 8/8\n",
      "318/318 [==============================] - 11s 35ms/step - loss: 5.8535e-04 - val_loss: 0.0011\n",
      "318/318 [==============================] - 3s 8ms/step\n",
      "Epoch 1/8\n",
      "318/318 [==============================] - 15s 33ms/step - loss: 0.0017 - val_loss: 1.2524e-04\n",
      "Epoch 2/8\n",
      "318/318 [==============================] - 10s 32ms/step - loss: 2.7187e-04 - val_loss: 8.5900e-05\n",
      "Epoch 3/8\n",
      "318/318 [==============================] - 10s 31ms/step - loss: 2.3573e-04 - val_loss: 2.8137e-05\n",
      "Epoch 4/8\n",
      "318/318 [==============================] - 10s 31ms/step - loss: 2.1865e-04 - val_loss: 1.2562e-04\n",
      "Epoch 5/8\n",
      "318/318 [==============================] - 10s 32ms/step - loss: 1.9452e-04 - val_loss: 2.5890e-05\n",
      "Epoch 6/8\n",
      "318/318 [==============================] - 10s 30ms/step - loss: 1.8275e-04 - val_loss: 2.1570e-06\n",
      "Epoch 7/8\n",
      "318/318 [==============================] - 10s 31ms/step - loss: 1.5034e-04 - val_loss: 1.6557e-05\n",
      "Epoch 8/8\n",
      "318/318 [==============================] - 10s 30ms/step - loss: 1.3679e-04 - val_loss: 3.3076e-05\n",
      "318/318 [==============================] - 3s 8ms/step\n",
      "Epoch 1/8\n",
      "318/318 [==============================] - 15s 34ms/step - loss: 0.0023 - val_loss: 0.0014\n",
      "Epoch 2/8\n",
      "318/318 [==============================] - 10s 31ms/step - loss: 0.0012 - val_loss: 0.0018\n",
      "Epoch 3/8\n",
      "318/318 [==============================] - 10s 32ms/step - loss: 0.0010 - val_loss: 0.0020\n",
      "Epoch 4/8\n",
      "318/318 [==============================] - 10s 32ms/step - loss: 9.2103e-04 - val_loss: 0.0019\n",
      "Epoch 5/8\n",
      "318/318 [==============================] - 10s 31ms/step - loss: 8.3627e-04 - val_loss: 3.8891e-04\n",
      "Epoch 6/8\n",
      "318/318 [==============================] - 10s 31ms/step - loss: 7.3129e-04 - val_loss: 0.0012\n",
      "Epoch 7/8\n",
      "318/318 [==============================] - 10s 31ms/step - loss: 5.6154e-04 - val_loss: 4.5148e-04\n",
      "Epoch 8/8\n",
      "318/318 [==============================] - 10s 31ms/step - loss: 6.7438e-04 - val_loss: 0.0012\n",
      "318/318 [==============================] - 3s 8ms/step\n",
      "Epoch 1/10\n",
      "318/318 [==============================] - 14s 32ms/step - loss: 0.0013 - val_loss: 4.9252e-06\n",
      "Epoch 2/10\n",
      "318/318 [==============================] - 9s 30ms/step - loss: 2.8867e-04 - val_loss: 2.7887e-04\n",
      "Epoch 3/10\n",
      "318/318 [==============================] - 10s 30ms/step - loss: 2.4132e-04 - val_loss: 1.4371e-04\n",
      "Epoch 4/10\n",
      "318/318 [==============================] - 9s 30ms/step - loss: 2.1282e-04 - val_loss: 4.7930e-04\n",
      "Epoch 5/10\n",
      "318/318 [==============================] - 10s 30ms/step - loss: 2.1628e-04 - val_loss: 5.8598e-05\n",
      "Epoch 6/10\n",
      "318/318 [==============================] - 10s 30ms/step - loss: 1.5446e-04 - val_loss: 5.9757e-06\n",
      "Epoch 7/10\n",
      "318/318 [==============================] - 10s 31ms/step - loss: 1.4398e-04 - val_loss: 1.2378e-06\n",
      "Epoch 8/10\n",
      "318/318 [==============================] - 10s 31ms/step - loss: 1.3305e-04 - val_loss: 1.3872e-04\n",
      "Epoch 9/10\n",
      "318/318 [==============================] - 9s 30ms/step - loss: 1.1964e-04 - val_loss: 2.8091e-04\n",
      "Epoch 10/10\n",
      "318/318 [==============================] - 10s 30ms/step - loss: 1.2525e-04 - val_loss: 7.5401e-06\n",
      "318/318 [==============================] - 3s 8ms/step\n",
      "Epoch 1/10\n",
      "318/318 [==============================] - 14s 32ms/step - loss: 0.0025 - val_loss: 4.6382e-04\n",
      "Epoch 2/10\n",
      "318/318 [==============================] - 9s 30ms/step - loss: 0.0011 - val_loss: 6.7323e-04\n",
      "Epoch 3/10\n",
      "318/318 [==============================] - 10s 32ms/step - loss: 8.8263e-04 - val_loss: 4.0893e-04\n",
      "Epoch 4/10\n",
      "318/318 [==============================] - 10s 31ms/step - loss: 8.5918e-04 - val_loss: 3.4508e-04\n",
      "Epoch 5/10\n",
      "318/318 [==============================] - 9s 30ms/step - loss: 7.4959e-04 - val_loss: 6.6795e-04\n",
      "Epoch 6/10\n",
      "318/318 [==============================] - 9s 30ms/step - loss: 6.5698e-04 - val_loss: 5.3200e-04\n",
      "Epoch 7/10\n",
      "318/318 [==============================] - 9s 30ms/step - loss: 5.3191e-04 - val_loss: 1.3187e-04\n",
      "Epoch 8/10\n",
      "318/318 [==============================] - 10s 30ms/step - loss: 5.1765e-04 - val_loss: 2.9492e-04\n",
      "Epoch 9/10\n",
      "318/318 [==============================] - 9s 30ms/step - loss: 5.9513e-04 - val_loss: 1.2375e-04\n",
      "Epoch 10/10\n",
      "318/318 [==============================] - 10s 30ms/step - loss: 5.3526e-04 - val_loss: 1.2292e-05\n",
      "318/318 [==============================] - 3s 8ms/step\n",
      "Epoch 1/10\n",
      "318/318 [==============================] - 14s 32ms/step - loss: 0.0014 - val_loss: 3.6966e-05\n",
      "Epoch 2/10\n",
      "318/318 [==============================] - 9s 30ms/step - loss: 2.8881e-04 - val_loss: 1.6259e-04\n",
      "Epoch 3/10\n",
      "318/318 [==============================] - 10s 31ms/step - loss: 2.3197e-04 - val_loss: 9.9144e-06\n",
      "Epoch 4/10\n",
      "318/318 [==============================] - 10s 31ms/step - loss: 1.8651e-04 - val_loss: 1.1283e-05\n",
      "Epoch 5/10\n",
      "318/318 [==============================] - 10s 30ms/step - loss: 1.6437e-04 - val_loss: 7.4567e-05\n",
      "Epoch 6/10\n",
      "318/318 [==============================] - 9s 30ms/step - loss: 1.8339e-04 - val_loss: 9.4620e-05\n",
      "Epoch 7/10\n",
      "318/318 [==============================] - 9s 29ms/step - loss: 1.3611e-04 - val_loss: 6.2363e-05\n",
      "Epoch 8/10\n",
      "318/318 [==============================] - 10s 30ms/step - loss: 1.3329e-04 - val_loss: 5.8063e-06\n",
      "Epoch 9/10\n",
      "318/318 [==============================] - 9s 30ms/step - loss: 1.2091e-04 - val_loss: 6.7960e-05\n",
      "Epoch 10/10\n",
      "318/318 [==============================] - 9s 30ms/step - loss: 1.3561e-04 - val_loss: 2.9907e-05\n",
      "318/318 [==============================] - 3s 8ms/step\n",
      "Epoch 1/10\n",
      "318/318 [==============================] - 15s 36ms/step - loss: 0.0030 - val_loss: 5.1955e-04\n",
      "Epoch 2/10\n",
      "318/318 [==============================] - 11s 35ms/step - loss: 0.0011 - val_loss: 0.0010\n",
      "Epoch 3/10\n",
      "318/318 [==============================] - 11s 34ms/step - loss: 9.4842e-04 - val_loss: 3.5006e-04\n",
      "Epoch 4/10\n",
      "318/318 [==============================] - 11s 35ms/step - loss: 8.6754e-04 - val_loss: 4.3156e-05\n",
      "Epoch 5/10\n",
      "318/318 [==============================] - 11s 35ms/step - loss: 7.9620e-04 - val_loss: 0.0011\n",
      "Epoch 6/10\n",
      "318/318 [==============================] - 11s 35ms/step - loss: 7.7780e-04 - val_loss: 3.5575e-04\n",
      "Epoch 7/10\n",
      "318/318 [==============================] - 11s 35ms/step - loss: 5.9915e-04 - val_loss: 3.5377e-05\n",
      "Epoch 8/10\n",
      "318/318 [==============================] - 11s 35ms/step - loss: 6.9388e-04 - val_loss: 9.2465e-04\n",
      "Epoch 9/10\n",
      "318/318 [==============================] - 11s 35ms/step - loss: 5.5194e-04 - val_loss: 2.5452e-04\n",
      "Epoch 10/10\n",
      "318/318 [==============================] - 11s 35ms/step - loss: 4.8637e-04 - val_loss: 3.7694e-04\n",
      "318/318 [==============================] - 4s 10ms/step\n",
      "Epoch 1/8\n",
      "254/254 [==============================] - 14s 39ms/step - loss: 0.0016 - val_loss: 3.9168e-04\n",
      "Epoch 2/8\n",
      "254/254 [==============================] - 9s 35ms/step - loss: 3.0749e-04 - val_loss: 1.6951e-04\n",
      "Epoch 3/8\n",
      "254/254 [==============================] - 9s 36ms/step - loss: 2.3698e-04 - val_loss: 3.3975e-05\n",
      "Epoch 4/8\n",
      "254/254 [==============================] - 9s 36ms/step - loss: 2.2199e-04 - val_loss: 1.4579e-05\n",
      "Epoch 5/8\n",
      "254/254 [==============================] - 9s 36ms/step - loss: 2.1603e-04 - val_loss: 3.3491e-05\n",
      "Epoch 6/8\n",
      "254/254 [==============================] - 9s 37ms/step - loss: 1.7630e-04 - val_loss: 4.0547e-06\n",
      "Epoch 7/8\n",
      "254/254 [==============================] - 10s 38ms/step - loss: 1.7234e-04 - val_loss: 2.6420e-05\n",
      "Epoch 8/8\n",
      "254/254 [==============================] - 9s 37ms/step - loss: 1.4401e-04 - val_loss: 2.0376e-05\n",
      "254/254 [==============================] - 4s 12ms/step\n",
      "Epoch 1/8\n",
      "254/254 [==============================] - 13s 37ms/step - loss: 0.0027 - val_loss: 0.0016\n",
      "Epoch 2/8\n",
      "254/254 [==============================] - 9s 36ms/step - loss: 0.0012 - val_loss: 0.0057\n",
      "Epoch 3/8\n",
      "254/254 [==============================] - 9s 34ms/step - loss: 0.0011 - val_loss: 0.0021\n",
      "Epoch 4/8\n",
      "254/254 [==============================] - 8s 33ms/step - loss: 9.0422e-04 - val_loss: 0.0013\n",
      "Epoch 5/8\n",
      "254/254 [==============================] - 8s 33ms/step - loss: 8.1387e-04 - val_loss: 0.0015\n",
      "Epoch 6/8\n",
      "254/254 [==============================] - 9s 36ms/step - loss: 6.8796e-04 - val_loss: 9.3046e-04\n",
      "Epoch 7/8\n",
      "254/254 [==============================] - 10s 40ms/step - loss: 6.2085e-04 - val_loss: 0.0018\n",
      "Epoch 8/8\n",
      "254/254 [==============================] - 11s 43ms/step - loss: 6.9873e-04 - val_loss: 5.2079e-04\n",
      "254/254 [==============================] - 4s 13ms/step\n",
      "Epoch 1/8\n",
      "254/254 [==============================] - 14s 38ms/step - loss: 0.0032 - val_loss: 9.1268e-05\n",
      "Epoch 2/8\n",
      "254/254 [==============================] - 9s 34ms/step - loss: 3.5770e-04 - val_loss: 1.2502e-04\n",
      "Epoch 3/8\n",
      "254/254 [==============================] - 9s 35ms/step - loss: 2.7194e-04 - val_loss: 4.0672e-04\n",
      "Epoch 4/8\n",
      "254/254 [==============================] - 9s 37ms/step - loss: 2.4639e-04 - val_loss: 6.9989e-05\n",
      "Epoch 5/8\n",
      "254/254 [==============================] - 9s 34ms/step - loss: 2.1500e-04 - val_loss: 4.7110e-06\n",
      "Epoch 6/8\n",
      "254/254 [==============================] - 9s 35ms/step - loss: 1.9869e-04 - val_loss: 4.3048e-06\n",
      "Epoch 7/8\n",
      "254/254 [==============================] - 9s 35ms/step - loss: 1.9696e-04 - val_loss: 1.2698e-04\n",
      "Epoch 8/8\n",
      "254/254 [==============================] - 9s 34ms/step - loss: 1.8027e-04 - val_loss: 3.3338e-05\n",
      "254/254 [==============================] - 3s 11ms/step\n",
      "Epoch 1/8\n",
      "254/254 [==============================] - 13s 38ms/step - loss: 0.0026 - val_loss: 4.3063e-04\n",
      "Epoch 2/8\n",
      "254/254 [==============================] - 9s 34ms/step - loss: 0.0012 - val_loss: 0.0014\n",
      "Epoch 3/8\n",
      "254/254 [==============================] - 9s 35ms/step - loss: 8.0794e-04 - val_loss: 9.2046e-04\n",
      "Epoch 4/8\n",
      "254/254 [==============================] - 9s 35ms/step - loss: 8.7855e-04 - val_loss: 0.0012\n",
      "Epoch 5/8\n",
      "254/254 [==============================] - 9s 34ms/step - loss: 8.0614e-04 - val_loss: 0.0013\n",
      "Epoch 6/8\n",
      "254/254 [==============================] - 9s 36ms/step - loss: 6.7698e-04 - val_loss: 3.0018e-04\n",
      "Epoch 7/8\n",
      "254/254 [==============================] - 9s 36ms/step - loss: 5.9272e-04 - val_loss: 8.4558e-04\n",
      "Epoch 8/8\n",
      "254/254 [==============================] - 9s 34ms/step - loss: 5.9817e-04 - val_loss: 3.2884e-04\n",
      "254/254 [==============================] - 4s 11ms/step\n",
      "Epoch 1/10\n",
      "254/254 [==============================] - 14s 41ms/step - loss: 0.0015 - val_loss: 8.2680e-06\n",
      "Epoch 2/10\n",
      "254/254 [==============================] - 9s 35ms/step - loss: 3.0462e-04 - val_loss: 7.8343e-05\n",
      "Epoch 3/10\n",
      "254/254 [==============================] - 9s 36ms/step - loss: 2.6076e-04 - val_loss: 2.8996e-06\n",
      "Epoch 4/10\n",
      "254/254 [==============================] - 9s 35ms/step - loss: 2.1648e-04 - val_loss: 1.2739e-04\n",
      "Epoch 5/10\n",
      "254/254 [==============================] - 9s 34ms/step - loss: 2.1262e-04 - val_loss: 1.0321e-04\n",
      "Epoch 6/10\n",
      "254/254 [==============================] - 9s 34ms/step - loss: 1.6554e-04 - val_loss: 3.2126e-04\n",
      "Epoch 7/10\n",
      "254/254 [==============================] - 9s 34ms/step - loss: 1.7768e-04 - val_loss: 1.1758e-04\n",
      "Epoch 8/10\n",
      "254/254 [==============================] - 9s 35ms/step - loss: 1.3591e-04 - val_loss: 3.7227e-05\n",
      "Epoch 9/10\n",
      "254/254 [==============================] - 9s 37ms/step - loss: 1.4688e-04 - val_loss: 1.9002e-06\n",
      "Epoch 10/10\n",
      "254/254 [==============================] - 9s 34ms/step - loss: 1.2616e-04 - val_loss: 5.2849e-05\n",
      "254/254 [==============================] - 4s 11ms/step\n",
      "Epoch 1/10\n",
      "254/254 [==============================] - 14s 39ms/step - loss: 0.0028 - val_loss: 8.7969e-04\n",
      "Epoch 2/10\n",
      "254/254 [==============================] - 9s 34ms/step - loss: 0.0011 - val_loss: 0.0010\n",
      "Epoch 3/10\n",
      "254/254 [==============================] - 9s 35ms/step - loss: 9.2482e-04 - val_loss: 0.0013\n",
      "Epoch 4/10\n",
      "254/254 [==============================] - 9s 37ms/step - loss: 9.7155e-04 - val_loss: 0.0010\n",
      "Epoch 5/10\n",
      "254/254 [==============================] - 9s 36ms/step - loss: 7.7824e-04 - val_loss: 8.6543e-04\n",
      "Epoch 6/10\n",
      "254/254 [==============================] - 9s 36ms/step - loss: 6.4441e-04 - val_loss: 7.0090e-04\n",
      "Epoch 7/10\n",
      "254/254 [==============================] - 9s 37ms/step - loss: 6.8667e-04 - val_loss: 0.0012\n",
      "Epoch 8/10\n",
      "254/254 [==============================] - 9s 35ms/step - loss: 5.4526e-04 - val_loss: 0.0013\n",
      "Epoch 9/10\n",
      "254/254 [==============================] - 9s 34ms/step - loss: 7.1794e-04 - val_loss: 0.0010\n",
      "Epoch 10/10\n",
      "254/254 [==============================] - 9s 34ms/step - loss: 5.6196e-04 - val_loss: 1.9442e-04\n",
      "254/254 [==============================] - 3s 11ms/step\n",
      "Epoch 1/10\n",
      "254/254 [==============================] - 13s 37ms/step - loss: 0.0014 - val_loss: 3.6334e-04\n",
      "Epoch 2/10\n",
      "254/254 [==============================] - 9s 34ms/step - loss: 2.8512e-04 - val_loss: 2.8832e-06\n",
      "Epoch 3/10\n",
      "254/254 [==============================] - 9s 34ms/step - loss: 2.3575e-04 - val_loss: 5.3990e-06\n",
      "Epoch 4/10\n",
      "254/254 [==============================] - 9s 35ms/step - loss: 1.9437e-04 - val_loss: 6.1371e-05\n",
      "Epoch 5/10\n",
      "254/254 [==============================] - 9s 35ms/step - loss: 2.2555e-04 - val_loss: 2.2079e-05\n",
      "Epoch 6/10\n",
      "254/254 [==============================] - 9s 34ms/step - loss: 1.7498e-04 - val_loss: 1.2725e-05\n",
      "Epoch 7/10\n",
      "254/254 [==============================] - 9s 36ms/step - loss: 1.5834e-04 - val_loss: 1.3208e-06\n",
      "Epoch 8/10\n",
      "254/254 [==============================] - 9s 34ms/step - loss: 1.4274e-04 - val_loss: 1.4409e-06\n",
      "Epoch 9/10\n",
      "254/254 [==============================] - 9s 35ms/step - loss: 1.2817e-04 - val_loss: 2.3028e-06\n",
      "Epoch 10/10\n",
      "254/254 [==============================] - 9s 34ms/step - loss: 1.0994e-04 - val_loss: 2.4909e-05\n",
      "254/254 [==============================] - 3s 10ms/step\n",
      "Epoch 1/10\n",
      "254/254 [==============================] - 13s 37ms/step - loss: 0.0031 - val_loss: 2.6055e-04\n",
      "Epoch 2/10\n",
      "254/254 [==============================] - 9s 34ms/step - loss: 0.0011 - val_loss: 1.7530e-04\n",
      "Epoch 3/10\n",
      "254/254 [==============================] - 9s 34ms/step - loss: 9.6822e-04 - val_loss: 0.0026\n",
      "Epoch 4/10\n",
      "254/254 [==============================] - 9s 34ms/step - loss: 9.1352e-04 - val_loss: 4.6564e-04\n",
      "Epoch 5/10\n",
      "254/254 [==============================] - 9s 37ms/step - loss: 8.4132e-04 - val_loss: 0.0011\n",
      "Epoch 6/10\n",
      "254/254 [==============================] - 9s 35ms/step - loss: 5.8027e-04 - val_loss: 4.7058e-04\n",
      "Epoch 7/10\n",
      "254/254 [==============================] - 9s 35ms/step - loss: 8.1670e-04 - val_loss: 4.6331e-04\n",
      "Epoch 8/10\n",
      "254/254 [==============================] - 9s 34ms/step - loss: 6.0778e-04 - val_loss: 4.5984e-04\n",
      "Epoch 9/10\n",
      "254/254 [==============================] - 9s 35ms/step - loss: 7.0911e-04 - val_loss: 3.3287e-04\n",
      "Epoch 10/10\n",
      "254/254 [==============================] - 9s 35ms/step - loss: 4.8108e-04 - val_loss: 1.3994e-04\n",
      "254/254 [==============================] - 3s 10ms/step\n",
      "Epoch 1/10\n",
      "635/635 [==============================] - 23s 31ms/step - loss: 0.0014 - val_loss: 3.0996e-05\n",
      "Epoch 2/10\n",
      "635/635 [==============================] - 19s 29ms/step - loss: 6.1733e-04 - val_loss: 2.2611e-05\n",
      "Epoch 3/10\n",
      "635/635 [==============================] - 19s 30ms/step - loss: 4.8521e-04 - val_loss: 2.7121e-05\n",
      "Epoch 4/10\n",
      "635/635 [==============================] - 20s 31ms/step - loss: 4.7706e-04 - val_loss: 2.4613e-06\n",
      "Epoch 5/10\n",
      "635/635 [==============================] - 19s 29ms/step - loss: 3.8675e-04 - val_loss: 3.3626e-06\n",
      "Epoch 6/10\n",
      "635/635 [==============================] - 21s 33ms/step - loss: 3.5618e-04 - val_loss: 3.7597e-04\n",
      "Epoch 7/10\n",
      "635/635 [==============================] - 19s 30ms/step - loss: 2.8961e-04 - val_loss: 5.1936e-06\n",
      "Epoch 8/10\n",
      "635/635 [==============================] - 19s 29ms/step - loss: 2.4241e-04 - val_loss: 2.0847e-05\n",
      "Epoch 9/10\n",
      "635/635 [==============================] - 19s 29ms/step - loss: 3.6270e-04 - val_loss: 9.5431e-07\n",
      "Epoch 10/10\n",
      "635/635 [==============================] - 19s 29ms/step - loss: 2.5438e-04 - val_loss: 5.8318e-06\n"
     ]
    }
   ],
   "source": [
    "# обучаем  и ищем новые параметры\n",
    "grid_search = grid_search.fit(trainX,trainY)"
   ]
  },
  {
   "cell_type": "code",
   "execution_count": 51,
   "metadata": {},
   "outputs": [
    {
     "data": {
      "text/plain": [
       "{'batch_size': 16, 'epochs': 10, 'optimizer': 'adam'}"
      ]
     },
     "execution_count": 51,
     "metadata": {},
     "output_type": "execute_result"
    }
   ],
   "source": [
    "# смотрим, какие параметры были лучшими\n",
    "\n",
    "grid_search.best_params_"
   ]
  },
  {
   "cell_type": "code",
   "execution_count": 53,
   "metadata": {},
   "outputs": [
    {
     "data": {
      "text/plain": [
       "<function __main__.build_model(optimizer='adam', npas=50, icol=17)>"
      ]
     },
     "execution_count": 53,
     "metadata": {},
     "output_type": "execute_result"
    }
   ],
   "source": [
    "# заполняем лучшими параметрами\n",
    "my_model=grid_search.best_estimator_.model\n",
    "my_model"
   ]
  },
  {
   "cell_type": "code",
   "execution_count": 54,
   "metadata": {},
   "outputs": [
    {
     "name": "stdout",
     "output_type": "stream",
     "text": [
      "210/210 [==============================] - 5s 15ms/step\n",
      "prediction [0.01725321 0.01788466 0.01771727 ... 0.08786744 0.08802499 0.08802179] \n",
      "\n",
      "Prediction Shape (3353,)\n"
     ]
    }
   ],
   "source": [
    "# делаем предикт по лучшим гиперпараметрам\n",
    "\n",
    "# для одного раза\n",
    "# prediction=model_fitted.predict(testX)\n",
    "\n",
    "# для всех\n",
    "prediction=grid_search.best_estimator_.predict(testX)\n",
    "\n",
    "print(f\"prediction {prediction} \\n\")\n",
    "print(f\"Prediction Shape {prediction.shape}\")"
   ]
  },
  {
   "cell_type": "code",
   "execution_count": 42,
   "metadata": {},
   "outputs": [
    {
     "ename": "ValueError",
     "evalue": "non-broadcastable output operand with shape (3353,1) doesn't match the broadcast shape (3353,17)",
     "output_type": "error",
     "traceback": [
      "\u001b[1;31m---------------------------------------------------------------------------\u001b[0m",
      "\u001b[1;31mValueError\u001b[0m                                Traceback (most recent call last)",
      "Cell \u001b[1;32mIn[42], line 3\u001b[0m\n\u001b[0;32m      1\u001b[0m \u001b[38;5;66;03m#  Теперь вспоминаем, что мы отмасщтабировали значения. Нужно вернуть все назад. Но прямо сделать не получится.\u001b[39;00m\n\u001b[0;32m      2\u001b[0m \u001b[38;5;66;03m# Следующий код вызовет ошибку, так как делали трансформацию на матрице, а засунуть пытаемся вектор:\u001b[39;00m\n\u001b[1;32m----> 3\u001b[0m scaler\u001b[38;5;241m.\u001b[39minverse_transform(prediction\u001b[38;5;241m.\u001b[39mreshape(\u001b[38;5;241m-\u001b[39m\u001b[38;5;241m1\u001b[39m, \u001b[38;5;241m1\u001b[39m))\n",
      "File \u001b[1;32mc:\\Users\\kanze\\anaconda3\\Lib\\site-packages\\sklearn\\preprocessing\\_data.py:547\u001b[0m, in \u001b[0;36mMinMaxScaler.inverse_transform\u001b[1;34m(self, X)\u001b[0m\n\u001b[0;32m    541\u001b[0m check_is_fitted(\u001b[38;5;28mself\u001b[39m)\n\u001b[0;32m    543\u001b[0m X \u001b[38;5;241m=\u001b[39m check_array(\n\u001b[0;32m    544\u001b[0m     X, copy\u001b[38;5;241m=\u001b[39m\u001b[38;5;28mself\u001b[39m\u001b[38;5;241m.\u001b[39mcopy, dtype\u001b[38;5;241m=\u001b[39mFLOAT_DTYPES, force_all_finite\u001b[38;5;241m=\u001b[39m\u001b[38;5;124m\"\u001b[39m\u001b[38;5;124mallow-nan\u001b[39m\u001b[38;5;124m\"\u001b[39m\n\u001b[0;32m    545\u001b[0m )\n\u001b[1;32m--> 547\u001b[0m X \u001b[38;5;241m-\u001b[39m\u001b[38;5;241m=\u001b[39m \u001b[38;5;28mself\u001b[39m\u001b[38;5;241m.\u001b[39mmin_\n\u001b[0;32m    548\u001b[0m X \u001b[38;5;241m/\u001b[39m\u001b[38;5;241m=\u001b[39m \u001b[38;5;28mself\u001b[39m\u001b[38;5;241m.\u001b[39mscale_\n\u001b[0;32m    549\u001b[0m \u001b[38;5;28;01mreturn\u001b[39;00m X\n",
      "\u001b[1;31mValueError\u001b[0m: non-broadcastable output operand with shape (3353,1) doesn't match the broadcast shape (3353,17)"
     ]
    }
   ],
   "source": [
    "#  Теперь вспоминаем, что мы отмасщтабировали значения. Нужно вернуть все назад. Но прямо сделать не получится.\n",
    "# Следующий код вызовет ошибку, так как делали трансформацию на матрице, а засунуть пытаемся вектор:\n",
    "scaler.inverse_transform(prediction.reshape(-1, 1))"
   ]
  },
  {
   "cell_type": "code",
   "execution_count": 56,
   "metadata": {},
   "outputs": [
    {
     "data": {
      "text/plain": [
       "(3353, 17)"
      ]
     },
     "execution_count": 56,
     "metadata": {},
     "output_type": "execute_result"
    }
   ],
   "source": [
    "pred = prediction.reshape(-1, 1) # без этого никак\n",
    "\n",
    "prediction_copies_array = np.repeat(pred,17, axis=-1)  # обманываем систему\n",
    "prediction_copies_array.shape"
   ]
  },
  {
   "cell_type": "code",
   "execution_count": 57,
   "metadata": {},
   "outputs": [
    {
     "data": {
      "text/plain": [
       "array([24460.63 , 24608.516, 24569.314, ..., 40998.203, 41035.1  ,\n",
       "       41034.35 ], dtype=float32)"
      ]
     },
     "execution_count": 57,
     "metadata": {},
     "output_type": "execute_result"
    }
   ],
   "source": [
    "# теперь будет все норм\n",
    "cfs = len(df.columns)\n",
    "\n",
    "prediction=scaler.inverse_transform(np.reshape(prediction_copies_array,(len(prediction_copies_array),cfs)))[:,0]\n",
    "prediction"
   ]
  },
  {
   "cell_type": "code",
   "execution_count": 58,
   "metadata": {},
   "outputs": [
    {
     "data": {
      "text/plain": [
       "(3353, 17)"
      ]
     },
     "execution_count": 58,
     "metadata": {},
     "output_type": "execute_result"
    }
   ],
   "source": [
    "# тоже самое повторяем с истинными значениями\n",
    "original_copies_array = np.repeat(testY.reshape(-1, 1),cfs, axis=-1)\n",
    "original_copies_array.shape"
   ]
  },
  {
   "cell_type": "code",
   "execution_count": 59,
   "metadata": {},
   "outputs": [],
   "source": [
    "\n",
    "original=scaler.inverse_transform(np.reshape(original_copies_array,(len(testY),cfs)))[:,0]"
   ]
  },
  {
   "cell_type": "code",
   "execution_count": 60,
   "metadata": {},
   "outputs": [
    {
     "name": "stdout",
     "output_type": "stream",
     "text": [
      "Pred Values-- [24460.63  24608.516 24569.314 ... 40998.203 41035.1   41034.35 ]\n",
      "\n",
      "\n",
      "Original Values-- [24873. 24880. 24887. ... 42139. 42147. 42159.]\n"
     ]
    }
   ],
   "source": [
    "print(f\"Pred Values-- {prediction}\\n\\n\")\n",
    "print(f\"Original Values-- {original}\")"
   ]
  },
  {
   "cell_type": "code",
   "execution_count": 63,
   "metadata": {},
   "outputs": [
    {
     "data": {
      "image/png": "[encoded data removed]",
      "text/plain": [
       "<Figure size 640x480 with 1 Axes>"
      ]
     },
     "metadata": {},
     "output_type": "display_data"
    }
   ],
   "source": [
    "plt.plot(original, color = 'red', label = 'Real  CO(GT)')\n",
    "plt.plot(prediction, color = 'blue', label = 'Predicted CO(GT)')\n",
    "plt.title(' CO(GT)Prediction')\n",
    "plt.xlabel('Time')\n",
    "plt.ylabel(' CO(GT)')\n",
    "plt.legend()\n",
    "plt.show()"
   ]
  },
  {
   "cell_type": "code",
   "execution_count": null,
   "metadata": {},
   "outputs": [],
   "source": []
  },
  {
   "cell_type": "code",
   "execution_count": null,
   "metadata": {},
   "outputs": [],
   "source": []
  }
 ],
 "metadata": {
  "kernelspec": {
   "display_name": ".venv",
   "language": "python",
   "name": "python3"
  },
  "language_info": {
   "codemirror_mode": {
    "name": "ipython",
    "version": 3
   },
   "file_extension": ".py",
   "mimetype": "text/x-python",
   "name": "python",
   "nbconvert_exporter": "python",
   "pygments_lexer": "ipython3",
   "version": "3.11.4"
  }
 },
 "nbformat": 4,
 "nbformat_minor": 2
}
